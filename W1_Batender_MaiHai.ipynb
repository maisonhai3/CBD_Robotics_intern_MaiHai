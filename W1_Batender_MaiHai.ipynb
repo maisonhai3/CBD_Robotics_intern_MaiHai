{
 "cells": [
  {
   "cell_type": "code",
   "execution_count": 1,
   "metadata": {},
   "outputs": [],
   "source": [
    "#0 Importing libs\n",
    "import random"
   ]
  },
  {
   "cell_type": "code",
   "execution_count": 2,
   "metadata": {},
   "outputs": [],
   "source": [
    "#1 Importing datasets\n",
    "\n",
    "questions = {\n",
    "\"strong\": \"Do ye like yer drinks strong?\",\n",
    "\"salty\": \"Do ye like it with a salty tang?\",\n",
    "\"bitter\": \"Are ye a lubber who likes it bitter?\",\n",
    "\"sweet\": \"Would ye like a bit of sweetness with yer poison?\",\n",
    "\"fruity\": \"Are ye one for a fruity finish?\",\n",
    "}\n",
    "\n",
    "ingredients = {\n",
    "\"strong\": [\"glug of rum\", \"slug of whisky\", \"splash of gin\"],\n",
    "\"salty\": [\"olive on a stick\", \"salt-dusted rim\", \"rasher of bacon\"],\n",
    "\"bitter\": [\"shake of bitters\", \"splash of tonic\", \"twist of lemon peel\"],\n",
    "\"sweet\": [\"sugar cube\", \"spoonful of honey\", \"spash of cola\"],\n",
    "\"fruity\": [\"slice of orange\", \"dash of cassis\", \"cherry on top\"],\n",
    "}"
   ]
  },
  {
   "cell_type": "code",
   "execution_count": 3,
   "metadata": {},
   "outputs": [],
   "source": [
    "#2 Defining functions"
   ]
  },
  {
   "cell_type": "code",
   "execution_count": 4,
   "metadata": {},
   "outputs": [],
   "source": [
    "# 2.1 Encoder: 0, 1, 2.. -> questions.keys\n",
    "def int_to_key(number, data=ingredients):\n",
    "    keys = list(data.keys())\n",
    "    return keys[number]"
   ]
  },
  {
   "cell_type": "code",
   "execution_count": 5,
   "metadata": {},
   "outputs": [],
   "source": [
    "#2.2 Answers must be 0|1 && not charaters.\n",
    "def verify_answer():\n",
    "    while True:\n",
    "        try:\n",
    "            answer = int(input('0 or 1 \\n'))\n",
    "            \n",
    "        except ValueError:\n",
    "            print('Not a integer. Try again.')\n",
    "            continue\n",
    "        else:\n",
    "            break\n",
    "    while answer not in [0, 1]:\n",
    "        print('Nor 0 or 1! Try again.')\n",
    "        answer = int(input('0 or 1 \\n'))\n",
    "    return answer"
   ]
  },
  {
   "cell_type": "code",
   "execution_count": 6,
   "metadata": {},
   "outputs": [],
   "source": [
    "#2.3 Questioning customer of his tastes\n",
    "def required_tastes(data=questions):\n",
    "    '''\n",
    "    This func receives customer requirements.\n",
    "    \n",
    "    Parameters\n",
    "    ----------\n",
    "    data : a dict. \n",
    "        DESCRIPTION. The default is the given questions at #1.\n",
    "\n",
    "    Returns\n",
    "    -------\n",
    "    requirements : list of integer.\n",
    "        DESCRIPTION. Ex: [1, 0, 1, 1, 0] corresonding to questions.keys()\n",
    "\n",
    "    '''\n",
    "    \n",
    "    # instructions: yes or no\n",
    "    print('Please answer questions with ONLY: 1 for Yes or 0 for No \\n')\n",
    "    requirements = []\n",
    "    \n",
    "    # Questions and Answers\n",
    "    for value in questions.values():\n",
    "        print(value)\n",
    "        choosen_taste = verify_answer()\n",
    "        requirements.append(choosen_taste)\n",
    "    return requirements"
   ]
  },
  {
   "cell_type": "code",
   "execution_count": 7,
   "metadata": {},
   "outputs": [],
   "source": [
    "#2.4 Randomly match customer's requirements to ingredients.\n",
    "def randomly_match_ingredients(requirements, data=ingredients):\n",
    "    '''\n",
    "    Randomly match customer's requirements to ingredients.\n",
    "    \n",
    "    Parameters\n",
    "    ----------\n",
    "    requirements : a list of int.\n",
    "        SUCH AS. [1, 0, 1, 0, 1]\n",
    "    data : a dict.\n",
    "        DESCRIPTION. The default is the given ingredients at #1.\n",
    "\n",
    "    Returns\n",
    "    -------\n",
    "    selected_ingredients : a list of str.\n",
    "        SUCH AS: ['splash of gin', 'rasher of bacon', 'shake of bitters']\n",
    "\n",
    "    '''\n",
    "    selected_ingredients = []\n",
    "    \n",
    "    # giving offer\n",
    "    ## in case: he requires NOTHING\n",
    "    is_nothing = sum(requirements[i] for i in range(len(requirements)))\n",
    "    if is_nothing == 0:\n",
    "        print('\\n Our pub offer you a cup of PURE water.')\n",
    "        return\n",
    "    \n",
    "    ## in case: he require SOMETHING    \n",
    "    for i, choice in enumerate(requirements):\n",
    "        if choice == 1:\n",
    "            key_of_choice = int_to_key(i)\n",
    "            randomly_match = random.choice(data[key_of_choice])\n",
    "            selected_ingredients.append(randomly_match)\n",
    "            \n",
    "    print('\\n Based on your choices, the pub offers a drink with:')\n",
    "    print(selected_ingredients)\n",
    "    \n",
    "    return selected_ingredients"
   ]
  },
  {
   "cell_type": "code",
   "execution_count": 8,
   "metadata": {},
   "outputs": [
    {
     "name": "stdout",
     "output_type": "stream",
     "text": [
      "Please answer questions with ONLY: 1 for Yes or 0 for No \n",
      "\n",
      "Do ye like yer drinks strong?\n",
      "0 or 1 \n",
      "1\n",
      "Do ye like it with a salty tang?\n",
      "0 or 1 \n",
      "1\n",
      "Are ye a lubber who likes it bitter?\n",
      "0 or 1 \n",
      "1\n",
      "Would ye like a bit of sweetness with yer poison?\n",
      "0 or 1 \n",
      "0\n",
      "Are ye one for a fruity finish?\n",
      "0 or 1 \n",
      "0\n",
      "\n",
      " Based on your choices, the pub offers a drink with:\n",
      "['glug of rum', 'olive on a stick', 'shake of bitters']\n"
     ]
    }
   ],
   "source": [
    "requirements = required_tastes()\n",
    "selected_ingredients = randomly_match_ingredients(requirements) "
   ]
  },
  {
   "cell_type": "markdown",
   "metadata": {},
   "source": [
    "# Bugs\n",
    "1. in 2.2 -- verify_answer.\n",
    "Raise error while: input 2, 3, 4.. -> input a, b, e.. -> ERROR.\n",
    "Under fixing.\n"
   ]
  },
  {
   "cell_type": "code",
   "execution_count": null,
   "metadata": {},
   "outputs": [],
   "source": []
  }
 ],
 "metadata": {
  "kernelspec": {
   "display_name": "Python 3",
   "language": "python",
   "name": "python3"
  },
  "language_info": {
   "codemirror_mode": {
    "name": "ipython",
    "version": 3
   },
   "file_extension": ".py",
   "mimetype": "text/x-python",
   "name": "python",
   "nbconvert_exporter": "python",
   "pygments_lexer": "ipython3",
   "version": "3.7.6"
  }
 },
 "nbformat": 4,
 "nbformat_minor": 4
}
